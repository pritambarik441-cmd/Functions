{
  "nbformat": 4,
  "nbformat_minor": 0,
  "metadata": {
    "colab": {
      "provenance": []
    },
    "kernelspec": {
      "name": "python3",
      "display_name": "Python 3"
    },
    "language_info": {
      "name": "python"
    }
  },
  "cells": [
    {
      "cell_type": "markdown",
      "source": [],
      "metadata": {
        "id": "mmOuwPfQs2uq"
      }
    },
    {
      "cell_type": "markdown",
      "source": [
        "# Theory Questions"
      ],
      "metadata": {
        "id": "fmQBpJmms96p"
      }
    },
    {
      "cell_type": "markdown",
      "metadata": {
        "id": "9faec790"
      },
      "source": [
        "### 1. What is the difference between a function and a method in python?\n",
        "\n",
        "A **function** is a block of code that is called by its name. It can be passed data to operate on (i.e., the parameters) and can optionally return data (the return value).\n",
        "\n",
        "A **method**, on the other hand, is a function that is associated with an object. It is called on an object, and it can operate on the data (the attributes) of that object.\n",
        "\n",
        "Here's an example:"
      ]
    },
    {
      "cell_type": "markdown",
      "metadata": {
        "id": "23db185b"
      },
      "source": [
        "### 2. Explain the concept of function arguments and parameters In python\n",
        "\n",
        "**Parameters** are the names listed in the function definition. They are the variables that will receive the values when the function is called.\n",
        "\n",
        "**Arguments** are the actual values that are passed to the function when it is called."
      ]
    },
    {
      "cell_type": "markdown",
      "metadata": {
        "id": "c717b86e"
      },
      "source": [
        "### 3. What are the different ways to define and call a function in python?\n",
        "\n",
        "**Defining a function:**\n",
        "\n",
        "*   **`def` statement:** The most common way to define a function."
      ]
    },
    {
      "cell_type": "code",
      "metadata": {
        "id": "d1805b69"
      },
      "source": [
        "    add = lambda x, y: x + y"
      ],
      "execution_count": 1,
      "outputs": []
    },
    {
      "cell_type": "code",
      "metadata": {
        "colab": {
          "base_uri": "https://localhost:8080/"
        },
        "id": "38e74992",
        "outputId": "3ecdba4a-5700-4820-9d1e-edb1fda439fe"
      },
      "source": [
        "my_function(2,3)"
      ],
      "execution_count": 7,
      "outputs": [
        {
          "output_type": "stream",
          "name": "stdout",
          "text": [
            "2\n",
            "3\n"
          ]
        }
      ]
    },
    {
      "cell_type": "code",
      "metadata": {
        "colab": {
          "base_uri": "https://localhost:8080/"
        },
        "id": "c9434545",
        "outputId": "d7ad1490-08cc-4d27-cd6f-aa4f02a84485"
      },
      "source": [
        "my_function(y=3, x=2)"
      ],
      "execution_count": 8,
      "outputs": [
        {
          "output_type": "stream",
          "name": "stdout",
          "text": [
            "y: 3\n",
            "x: 2\n"
          ]
        }
      ]
    },
    {
      "cell_type": "code",
      "metadata": {
        "colab": {
          "base_uri": "https://localhost:8080/"
        },
        "id": "3865a94e",
        "outputId": "24334a6d-8e76-4193-a19c-34c522d03af8"
      },
      "source": [
        "    def greet(name, greeting=\"Hello\"):\n",
        "      print(f\"{greeting}, {name}!\")\n",
        "\n",
        "    greet(\"Alice\") # Uses the default greeting\n",
        "    greet(\"Bob\", \"Hi\") # Overrides the default"
      ],
      "execution_count": 4,
      "outputs": [
        {
          "output_type": "stream",
          "name": "stdout",
          "text": [
            "Hello, Alice!\n",
            "Hi, Bob!\n"
          ]
        }
      ]
    },
    {
      "cell_type": "code",
      "metadata": {
        "colab": {
          "base_uri": "https://localhost:8080/"
        },
        "id": "f75bfde5",
        "outputId": "53b3fe4d-e753-4a77-8d45-68be4f18eea3"
      },
      "source": [
        "    def my_function(*args, **kwargs):\n",
        "      for arg in args:\n",
        "        print(arg)\n",
        "      for key, value in kwargs.items():\n",
        "        print(f\"{key}: {value}\")\n",
        "\n",
        "    my_function(1, 2, 3, name=\"Alice\", age=30)"
      ],
      "execution_count": 5,
      "outputs": [
        {
          "output_type": "stream",
          "name": "stdout",
          "text": [
            "1\n",
            "2\n",
            "3\n",
            "name: Alice\n",
            "age: 30\n"
          ]
        }
      ]
    },
    {
      "cell_type": "markdown",
      "metadata": {
        "id": "9b3a0547"
      },
      "source": [
        "### 4. What is the purpose of the 'return' statement in a python function?\n",
        "\n",
        "The `return` statement in a Python function serves two main purposes:\n",
        "\n",
        "1.  **Exits the function:** When a `return` statement is encountered, the function immediately stops its execution.\n",
        "2.  **Returns a value:** It can optionally send a value back to the caller. If no value is specified, the function returns `None`."
      ]
    },
    {
      "cell_type": "markdown",
      "metadata": {
        "id": "d4b220f0"
      },
      "source": [
        "### 5. What are iterators in python and how do they differ from iterables?\n",
        "\n",
        "**Iterable:** An iterable is an object that can be looped over, like a list, tuple, dictionary, or string. It has an `__iter__()` method that returns an iterator.\n",
        "\n",
        "**Iterator:** An iterator is an object that represents a stream of data. It has a `__next__()` method that returns the next item in the stream. When there are no more items, it raises a `StopIteration` exception.\n",
        "\n",
        "**Key Differences:**\n",
        "\n",
        "| Feature      | Iterable                                   | Iterator                                       |\n",
        "|--------------|--------------------------------------------|------------------------------------------------|\n",
        "| **`__iter__()`** | Returns an iterator object.                | Returns itself.                                |\n",
        "| **`__next__()`** | Does not have a `__next__()` method.       | Returns the next item in the sequence.         |\n",
        "| **State**    | Does not have a state.                     | Remembers its current position in the sequence. |\n",
        "| **Memory**   | Stores all its elements in memory at once. | Generates elements on the fly, saving memory.  |\n",
        "\n",
        "Here's an example:"
      ]
    },
    {
      "cell_type": "markdown",
      "metadata": {
        "id": "bdde3791"
      },
      "source": [
        "### 6. Explain the concept of generators in python and how they are defined\n",
        "\n",
        "**Generators** are a special type of iterator. They are functions that use the `yield` keyword to return a sequence of values, one at a time.  Unlike regular functions that compute all values and return them at once, generators produce values on the fly, which makes them very memory-efficient for large datasets.\n",
        "\n",
        "**Defining a generator:**\n",
        "\n",
        "You define a generator just like a regular function, but instead of using `return`, you use `yield`."
      ]
    },
    {
      "cell_type": "markdown",
      "metadata": {
        "id": "a2108e28"
      },
      "source": [
        "### 7. What are the advantages of using generators over regular functions?\n",
        "\n",
        "Generators offer several advantages over regular functions that return a list of values:\n",
        "\n",
        "*   **Memory Efficiency:** Generators produce items one at a time and only when requested. This is extremely useful when working with large datasets that would otherwise consume a lot of memory if stored in a list all at once.\n",
        "*   **Lazy Evaluation:**  Values are generated on demand. This means that if you only need the first few values from a very long sequence, you don't have to waste time and resources generating the entire sequence.\n",
        "*   **Infinite Sequences:** Generators can be used to represent infinite sequences of data, which is impossible with regular functions that would need to store an infinite number of values in memory.\n",
        "*   **Simpler Code:** For certain tasks, using a generator can lead to cleaner and more readable code compared to creating a custom iterator class."
      ]
    },
    {
      "cell_type": "markdown",
      "metadata": {
        "id": "abc25d98"
      },
      "source": [
        "### 8. What is a lambda function in python and when is it typically used?\n",
        "\n",
        "A **lambda function** is a small, anonymous function defined with the `lambda` keyword. It can have any number of arguments but can only have one expression. The expression is evaluated and returned.\n",
        "\n",
        "**Syntax:** `lambda arguments: expression`\n",
        "\n",
        "**When to use lambda functions:**\n",
        "\n",
        "Lambda functions are typically used in situations where you need a small, one-time function, often as an argument to a higher-order function (a function that takes another function as an argument).\n",
        "\n",
        "A common use case is with functions like `map()`, `filter()`, and `sorted()`."
      ]
    },
    {
      "cell_type": "markdown",
      "metadata": {
        "id": "374691c6"
      },
      "source": [
        "### 9. Explain the purpose and usage of the 'map()' function in python\n",
        "\n",
        "The `map()` function is a built-in Python function that applies a given function to each item of an iterable (like a list, tuple, etc.) and returns a map object (an iterator).\n",
        "\n",
        "**Syntax:** `map(function, iterable, ...)`\n",
        "\n",
        "**Purpose:**\n",
        "\n",
        "The main purpose of `map()` is to transform each element of an iterable without using an explicit `for` loop. This can lead to more concise and readable code.\n",
        "\n",
        "**Usage:**"
      ]
    },
    {
      "cell_type": "code",
      "metadata": {
        "colab": {
          "base_uri": "https://localhost:8080/"
        },
        "id": "33a9a080",
        "outputId": "17b75c0b-f1ac-4ad4-b29c-72fcd1b9d2f4"
      },
      "source": [
        "numbers = [1, 2, 3, 4, 5]\n",
        "squared_numbers = map(lambda x: x**2, numbers)\n",
        "print(list(squared_numbers))"
      ],
      "execution_count": 6,
      "outputs": [
        {
          "output_type": "stream",
          "name": "stdout",
          "text": [
            "[1, 4, 9, 16, 25]\n"
          ]
        }
      ]
    },
    {
      "cell_type": "markdown",
      "metadata": {
        "id": "b62c08b1"
      },
      "source": [
        "### 10. what is the difference between 'map', 'reduce', and 'filter' functions in python?\n",
        "\n",
        "`map`, `filter`, and `reduce` are all higher-order functions that operate on iterables. However, they have distinct purposes:\n",
        "\n",
        "| Function | Purpose                                                                 | Input Function                                     | Output                                                              |\n",
        "|----------|-------------------------------------------------------------------------|----------------------------------------------------|---------------------------------------------------------------------|\n",
        "| **`map`**    | Applies a function to each element of an iterable.                      | A function that takes one argument.                | An iterator containing the transformed elements.                    |\n",
        "| **`filter`** | Filters elements from an iterable based on a condition.                 | A function that returns a boolean value (`True` or `False`). | An iterator containing only the elements for which the function returned `True`. |\n",
        "| **`reduce`** | Applies a function cumulatively to the items of an iterable, from left to right, so as to reduce the iterable to a single value. | A function that takes two arguments.                 | A single value.                                                     |\n",
        "\n",
        "**`reduce()` is not a built-in function in Python 3. It's available in the `functools` module.**\n",
        "\n",
        "Here's an example demonstrating all three:"
      ]
    },
    {
      "cell_type": "markdown",
      "metadata": {
        "id": "c4bdde77"
      },
      "source": [
        "### 11. Internal Mechanism of `reduce` for Summation\n",
        "\n",
        "Let's trace the execution of `reduce` with the `sum` operation on the list `[47, 11, 42, 13]`.\n",
        "\n",
        "The `reduce` function takes two arguments: a function and a sequence. In this case, our function is addition (`+`) and our sequence is `[47, 11, 42, 13]`.\n",
        "\n",
        "**Step 1:**\n",
        "\n",
        "*   `reduce` takes the first two elements of the list, `47` and `11`.\n",
        "*   It applies the addition function to them: `47 + 11 = 58`.\n",
        "*   The list is now conceptually `[58, 42, 13]`.\n",
        "\n",
        "**Step 2:**\n",
        "\n",
        "*   `reduce` takes the result of the previous operation, `58`, and the next element in the list, `42`.\n",
        "*   It applies the addition function: `58 + 42 = 100`.\n",
        "*   The list is now conceptually `[100, 13]`.\n",
        "\n",
        "**Step 3:**\n",
        "\n",
        "*   `reduce` takes the result of the previous operation, `100`, and the next element in the list, `13`.\n",
        "*   It applies the addition function: `100 + 13 = 113`.\n",
        "*   The list is now conceptually `[113]`.\n",
        "\n",
        "**Step 4:**\n",
        "\n",
        "*   Since there are no more elements in the list, `reduce` returns the final result: `113`.\n",
        "\n",
        "**In summary, `reduce` \"reduces\" the sequence to a single value by applying the given function cumulatively.**"
      ]
    },
    {
      "cell_type": "markdown",
      "source": [
        "# Practical Questions"
      ],
      "metadata": {
        "id": "YY2camTluJG-"
      }
    },
    {
      "cell_type": "code",
      "source": [],
      "metadata": {
        "id": "Zg46UVRguWL3"
      },
      "execution_count": null,
      "outputs": []
    },
    {
      "cell_type": "markdown",
      "metadata": {
        "id": "196e9b49"
      },
      "source": [
        "### 1. Write a Python function that takes a list of numbers as input and returns the sum of all even numbers in the list."
      ]
    },
    {
      "cell_type": "code",
      "metadata": {
        "colab": {
          "base_uri": "https://localhost:8080/"
        },
        "id": "82b836a1",
        "outputId": "c99e5649-8211-4668-dbf1-f0328825498f"
      },
      "source": [
        "def sum_even_numbers(numbers):\n",
        "    total = 0\n",
        "    for num in numbers:\n",
        "        if num % 2 == 0:\n",
        "            total += num\n",
        "    return total\n",
        "\n",
        "# Example usage\n",
        "my_list = [1, 2, 3, 4, 5, 6, 7, 8, 9, 10]\n",
        "print(f\"The sum of even numbers is: {sum_even_numbers(my_list)}\")"
      ],
      "execution_count": 9,
      "outputs": [
        {
          "output_type": "stream",
          "name": "stdout",
          "text": [
            "The sum of even numbers is: 30\n"
          ]
        }
      ]
    },
    {
      "cell_type": "markdown",
      "metadata": {
        "id": "18707b36"
      },
      "source": [
        "### 2. Create a Python function that accepts a string and returns the reverse of the string."
      ]
    },
    {
      "cell_type": "code",
      "metadata": {
        "colab": {
          "base_uri": "https://localhost:8080/"
        },
        "id": "ef182bd2",
        "outputId": "5cdb9b56-e9dc-4a16-cec5-bac408162567"
      },
      "source": [
        "def reverse_string(s):\n",
        "    return s[::-1]\n",
        "\n",
        "# Example usage\n",
        "my_string = \"hello world\"\n",
        "print(f\"The reversed string is: {reverse_string(my_string)}\")"
      ],
      "execution_count": 10,
      "outputs": [
        {
          "output_type": "stream",
          "name": "stdout",
          "text": [
            "The reversed string is: dlrow olleh\n"
          ]
        }
      ]
    },
    {
      "cell_type": "markdown",
      "metadata": {
        "id": "bc43a232"
      },
      "source": [
        "### 3. Implement a Python function that takes a list of integers and returns a new list containing the squares of each number."
      ]
    },
    {
      "cell_type": "code",
      "metadata": {
        "colab": {
          "base_uri": "https://localhost:8080/"
        },
        "id": "bf37f14c",
        "outputId": "d4459796-5dd9-4257-9e3e-cb0899dd9c81"
      },
      "source": [
        "def square_numbers(numbers):\n",
        "    squared_list = []\n",
        "    for num in numbers:\n",
        "        squared_list.append(num**2)\n",
        "    return squared_list\n",
        "\n",
        "# Example usage\n",
        "my_list = [1, 2, 3, 4, 5]\n",
        "print(f\"The list with squared numbers is: {square_numbers(my_list)}\")"
      ],
      "execution_count": 11,
      "outputs": [
        {
          "output_type": "stream",
          "name": "stdout",
          "text": [
            "The list with squared numbers is: [1, 4, 9, 16, 25]\n"
          ]
        }
      ]
    },
    {
      "cell_type": "markdown",
      "metadata": {
        "id": "b3504758"
      },
      "source": [
        "### 4. Write a Python function that checks if a given number is prime or not from 1 to 200."
      ]
    },
    {
      "cell_type": "code",
      "metadata": {
        "colab": {
          "base_uri": "https://localhost:8080/"
        },
        "id": "cb0a2e87",
        "outputId": "0d2e92e8-a67f-49f0-c9df-5e80b78696fb"
      },
      "source": [
        "def is_prime(num):\n",
        "    if num <= 1:\n",
        "        return False\n",
        "    for i in range(2, int(num**0.5) + 1):\n",
        "        if num % i == 0:\n",
        "            return False\n",
        "    return True\n",
        "\n",
        "# Example usage\n",
        "for i in range(1, 201):\n",
        "    if is_prime(i):\n",
        "        print(f\"{i} is a prime number\")"
      ],
      "execution_count": 12,
      "outputs": [
        {
          "output_type": "stream",
          "name": "stdout",
          "text": [
            "2 is a prime number\n",
            "3 is a prime number\n",
            "5 is a prime number\n",
            "7 is a prime number\n",
            "11 is a prime number\n",
            "13 is a prime number\n",
            "17 is a prime number\n",
            "19 is a prime number\n",
            "23 is a prime number\n",
            "29 is a prime number\n",
            "31 is a prime number\n",
            "37 is a prime number\n",
            "41 is a prime number\n",
            "43 is a prime number\n",
            "47 is a prime number\n",
            "53 is a prime number\n",
            "59 is a prime number\n",
            "61 is a prime number\n",
            "67 is a prime number\n",
            "71 is a prime number\n",
            "73 is a prime number\n",
            "79 is a prime number\n",
            "83 is a prime number\n",
            "89 is a prime number\n",
            "97 is a prime number\n",
            "101 is a prime number\n",
            "103 is a prime number\n",
            "107 is a prime number\n",
            "109 is a prime number\n",
            "113 is a prime number\n",
            "127 is a prime number\n",
            "131 is a prime number\n",
            "137 is a prime number\n",
            "139 is a prime number\n",
            "149 is a prime number\n",
            "151 is a prime number\n",
            "157 is a prime number\n",
            "163 is a prime number\n",
            "167 is a prime number\n",
            "173 is a prime number\n",
            "179 is a prime number\n",
            "181 is a prime number\n",
            "191 is a prime number\n",
            "193 is a prime number\n",
            "197 is a prime number\n",
            "199 is a prime number\n"
          ]
        }
      ]
    },
    {
      "cell_type": "markdown",
      "metadata": {
        "id": "456c16cd"
      },
      "source": [
        "### 5. Create an iterator class in Python that generates the Fibonacci sequence up to a specified number of terms."
      ]
    },
    {
      "cell_type": "code",
      "metadata": {
        "colab": {
          "base_uri": "https://localhost:8080/"
        },
        "id": "d3d5497c",
        "outputId": "320efa91-a0fb-4f85-f54c-17cc1e3a204a"
      },
      "source": [
        "class Fibonacci:\n",
        "    def __init__(self, terms):\n",
        "        self.terms = terms\n",
        "        self.counter = 0\n",
        "        self.a, self.b = 0, 1\n",
        "\n",
        "    def __iter__(self):\n",
        "        return self\n",
        "\n",
        "    def __next__(self):\n",
        "        if self.counter < self.terms:\n",
        "            self.counter += 1\n",
        "            result = self.a\n",
        "            self.a, self.b = self.b, self.a + self.b\n",
        "            return result\n",
        "        else:\n",
        "            raise StopIteration\n",
        "\n",
        "# Example usage\n",
        "fib_iterator = Fibonacci(10)\n",
        "for num in fib_iterator:\n",
        "    print(num)"
      ],
      "execution_count": 13,
      "outputs": [
        {
          "output_type": "stream",
          "name": "stdout",
          "text": [
            "0\n",
            "1\n",
            "1\n",
            "2\n",
            "3\n",
            "5\n",
            "8\n",
            "13\n",
            "21\n",
            "34\n"
          ]
        }
      ]
    },
    {
      "cell_type": "markdown",
      "metadata": {
        "id": "2eae503b"
      },
      "source": [
        "### 6. Write a generator function in Python that yields the powers of 2 up to a given exponent."
      ]
    },
    {
      "cell_type": "code",
      "metadata": {
        "colab": {
          "base_uri": "https://localhost:8080/"
        },
        "id": "eab37d9f",
        "outputId": "61c27b3e-c500-48c5-e005-f6f00dd6b481"
      },
      "source": [
        "def powers_of_two(exponent):\n",
        "    for i in range(exponent + 1):\n",
        "        yield 2**i\n",
        "\n",
        "# Example usage\n",
        "for num in powers_of_two(5):\n",
        "    print(num)"
      ],
      "execution_count": 14,
      "outputs": [
        {
          "output_type": "stream",
          "name": "stdout",
          "text": [
            "1\n",
            "2\n",
            "4\n",
            "8\n",
            "16\n",
            "32\n"
          ]
        }
      ]
    },
    {
      "cell_type": "markdown",
      "metadata": {
        "id": "6cb3d78b"
      },
      "source": [
        "### 7. Implement a generator function that reads a file line by line and yields each line as a string."
      ]
    },
    {
      "cell_type": "code",
      "metadata": {
        "colab": {
          "base_uri": "https://localhost:8080/"
        },
        "id": "c5eae5ed",
        "outputId": "df5ada68-b1f0-4a4c-bf04-7fe8c6674df3"
      },
      "source": [
        "def read_file_line_by_line(filename):\n",
        "    with open(filename, 'r') as f:\n",
        "        for line in f:\n",
        "            yield line.strip()\n",
        "\n",
        "# Create a dummy file for testing\n",
        "with open(\"my_file.txt\", \"w\") as f:\n",
        "    f.write(\"This is the first line.\\n\")\n",
        "    f.write(\"This is the second line.\\n\")\n",
        "    f.write(\"This is the third line.\\n\")\n",
        "\n",
        "# Example usage\n",
        "for line in read_file_line_by_line(\"my_file.txt\"):\n",
        "    print(line)"
      ],
      "execution_count": 15,
      "outputs": [
        {
          "output_type": "stream",
          "name": "stdout",
          "text": [
            "This is the first line.\n",
            "This is the second line.\n",
            "This is the third line.\n"
          ]
        }
      ]
    },
    {
      "cell_type": "markdown",
      "metadata": {
        "id": "d2779a98"
      },
      "source": [
        "### 8. Use a lambda function in Python to sort a list of tuples based on the second element of each tuple."
      ]
    },
    {
      "cell_type": "code",
      "metadata": {
        "colab": {
          "base_uri": "https://localhost:8080/"
        },
        "id": "aed28439",
        "outputId": "21ac3edc-11ac-4d5e-de7a-bed4c88d96fa"
      },
      "source": [
        "my_tuples = [('a', 3), ('b', 1), ('c', 2)]\n",
        "sorted_tuples = sorted(my_tuples, key=lambda x: x[1])\n",
        "print(f\"The sorted list of tuples is: {sorted_tuples}\")"
      ],
      "execution_count": 16,
      "outputs": [
        {
          "output_type": "stream",
          "name": "stdout",
          "text": [
            "The sorted list of tuples is: [('b', 1), ('c', 2), ('a', 3)]\n"
          ]
        }
      ]
    },
    {
      "cell_type": "markdown",
      "metadata": {
        "id": "f07d0a52"
      },
      "source": [
        "### 9. Write a Python program that uses map to convert a list of temperatures from Celsius to Fahrenheit."
      ]
    },
    {
      "cell_type": "code",
      "metadata": {
        "colab": {
          "base_uri": "https://localhost:8080/"
        },
        "id": "2fe73cdc",
        "outputId": "114574bb-ae24-4b33-945c-964d9b179845"
      },
      "source": [
        "def celsius_to_fahrenheit(celsius):\n",
        "    return (celsius * 9/5) + 32\n",
        "\n",
        "celsius_temps = [0, 10, 20, 30, 40, 50]\n",
        "fahrenheit_temps = map(celsius_to_fahrenheit, celsius_temps)\n",
        "print(f\"The temperatures in Fahrenheit are: {list(fahrenheit_temps)}\")"
      ],
      "execution_count": 17,
      "outputs": [
        {
          "output_type": "stream",
          "name": "stdout",
          "text": [
            "The temperatures in Fahrenheit are: [32.0, 50.0, 68.0, 86.0, 104.0, 122.0]\n"
          ]
        }
      ]
    },
    {
      "cell_type": "markdown",
      "metadata": {
        "id": "c99dfc79"
      },
      "source": [
        "### 10. Create a Python program that uses filter to remove all the vowels from a given string."
      ]
    },
    {
      "cell_type": "code",
      "metadata": {
        "colab": {
          "base_uri": "https://localhost:8080/"
        },
        "id": "e4684f6d",
        "outputId": "1da12a31-0b94-4ba7-dded-6390e8e8d3b6"
      },
      "source": [
        "def is_not_vowel(char):\n",
        "    return char.lower() not in 'aeiou'\n",
        "\n",
        "my_string = \"This is a string with vowels.\"\n",
        "filtered_string = filter(is_not_vowel, my_string)\n",
        "print(f\"The string without vowels is: {''.join(filtered_string)}\")"
      ],
      "execution_count": 18,
      "outputs": [
        {
          "output_type": "stream",
          "name": "stdout",
          "text": [
            "The string without vowels is: Ths s  strng wth vwls.\n"
          ]
        }
      ]
    },
    {
      "cell_type": "code",
      "metadata": {
        "colab": {
          "base_uri": "https://localhost:8080/"
        },
        "id": "8d2bf81a",
        "outputId": "a43a6db9-482c-4f2d-c373-ce5bceae3939"
      },
      "source": [
        "orders = [\n",
        "    [34587, \"learning python, mark lutz\", 4, 40.95],\n",
        "    [98762, \"programming python, mark lutz\", 5, 56.80],\n",
        "    [77226, \"head first python, Paul Barry\", 3, 32.95],\n",
        "    [88112, \"einfuhrung in python3, Bernd klein\", 3, 24.99]\n",
        "]\n",
        "\n",
        "# The lambda function checks if the order total (quantity * price) is less than 100.\n",
        "# If it is, it adds 10 to the total. Otherwise, it returns the original total.\n",
        "# The map function applies this lambda to each order in the list.\n",
        "order_totals = list(map(lambda order: (order[0], order[2] * order[3] + 10 if order[2] * order[3] < 100 else order[2] * order[3]), orders))\n",
        "\n",
        "print(order_totals)"
      ],
      "execution_count": 19,
      "outputs": [
        {
          "output_type": "stream",
          "name": "stdout",
          "text": [
            "[(34587, 163.8), (98762, 284.0), (77226, 108.85000000000001), (88112, 84.97)]\n"
          ]
        }
      ]
    }
  ]
}